{
 "cells": [
  {
   "cell_type": "code",
   "execution_count": 1,
   "id": "bee237b8",
   "metadata": {},
   "outputs": [],
   "source": [
    "import os \n",
    "import pickle\n",
    "import pandas as pd\n",
    "import numpy as np\n",
    "import pprint\n"
   ]
  },
  {
   "cell_type": "code",
   "execution_count": 2,
   "id": "38bfc3de",
   "metadata": {},
   "outputs": [],
   "source": [
    "from enum import IntEnum\n",
    "class HandleStatus(IntEnum):\n",
    "    VALID = 1\n",
    "    MISSING = 2\n",
    "    DISABLED = 4\n",
    "    "
   ]
  },
  {
   "cell_type": "code",
   "execution_count": 3,
   "id": "d7f273f3",
   "metadata": {
    "scrolled": false
   },
   "outputs": [
    {
     "name": "stdout",
     "output_type": "stream",
     "text": [
      "[Errno 2] No such file or directory: '/z/fmrilab/home/dcolin/Measuring_Scripts'\n",
      "/Users/colin/Documents/AKH/NDIPolaris\n"
     ]
    }
   ],
   "source": [
    "cd /z/fmrilab/home/dcolin/Measuring_Scripts\n"
   ]
  },
  {
   "cell_type": "code",
   "execution_count": 4,
   "id": "0df36148",
   "metadata": {},
   "outputs": [],
   "source": [
    "import ndi_polaris_04_07 as ndi"
   ]
  },
  {
   "cell_type": "code",
   "execution_count": 5,
   "id": "bd73914c",
   "metadata": {},
   "outputs": [],
   "source": [
    "d = pd.read_pickle('./Measurement_A')"
   ]
  },
  {
   "cell_type": "markdown",
   "id": "c6220c32",
   "metadata": {},
   "source": [
    "data d = list of frames ,each frame (one list entry) is a dictionary. \n",
    "\n",
    "dict keys are system_status, handles, stray_markers, time_stamps. handle is a list with the number of trackers tracked.\n",
    "\n",
    "each handle is a dict with: 'handle', 'status', 'quaternion', 'translation', 'error', 'port_status', 'frame_number', 'tool_information', 'marker_information', 'n_markers', 'marker_out_of_volume', 'markers'\n",
    "\n",
    "The first Entry is the position of the Plate relative to the camera coordinates\n",
    "first three values are the euler koordinates (alpha, beta, gamma) (top rotation, front, tilt)"
   ]
  },
  {
   "cell_type": "code",
   "execution_count": 6,
   "id": "9d95ffd1",
   "metadata": {},
   "outputs": [
    {
     "name": "stdout",
     "output_type": "stream",
     "text": [
      "{'system_status': [], 'handles': [{'handle': '01', 'status': <HandleStatus.VALID: 1>, 'quaternion': array([ 0.94013757,  0.01174189, -0.34050539, -0.00771884]), 'translation': array([  -44.24993896,   -46.94224548, -1512.94372559]), 'error': 0.17399075627326965, 'port_status': ['Occupied', 'Initialized', 'Enabled'], 'frame_number': 1121638378, 'tool_information': [[False, False, False, False, False, False, False, False], []], 'marker_information': ['Not used - Missing', 'Not used - Missing', 'Not used - Missing', 'Not used - Missing', 'Not used - Missing', 'Not used - Missing', 'Not used - Missing', 'Not used - Missing', 'Not used - Missing', 'Not used - Missing', 'Not used - Missing', 'Not used - Missing', 'Not used - Missing', 'Not used - Missing', 'Not used - Missing', 'Not used - Missing', 'Used', 'Not used - Missing', 'Used', 'Used'], 'n_markers': 3, 'marker_out_of_volume': [False, False, False, False, False, False, False, False], 'markers': [array([  -35.1472435 ,   -22.68466759, -1504.82006836]), array([  -83.21146393,   -46.20279312, -1545.4239502 ]), array([  -14.39110756,   -71.93927765, -1488.5871582 ])]}, {'handle': '02', 'status': <HandleStatus.VALID: 1>, 'quaternion': array([ 0.93950659,  0.01458444, -0.34210402, -0.00891611]), 'translation': array([  -31.98055458,   220.47102356, -1495.01989746]), 'error': 0.1864309161901474, 'port_status': ['Occupied', 'Initialized', 'Enabled'], 'frame_number': 1121638378, 'tool_information': [[False, False, False, False, False, False, False, False], []], 'marker_information': ['Not used - Missing', 'Not used - Missing', 'Not used - Missing', 'Not used - Missing', 'Not used - Missing', 'Not used - Missing', 'Not used - Missing', 'Not used - Missing', 'Not used - Missing', 'Not used - Missing', 'Not used - Missing', 'Not used - Missing', 'Not used - Missing', 'Not used - Missing', 'Not used - Missing', 'Not used - Missing', 'Used', 'Not used - Missing', 'Used', 'Used'], 'n_markers': 3, 'marker_out_of_volume': [False, False, False, False, False, False, False, False], 'markers': [array([   -7.492311  ,   199.90072632, -1475.02050781]), array([   -7.95464134,   256.09674072, -1473.8449707 ]), array([  -80.4947052 ,   205.41558838, -1536.19421387])]}, {'handle': '03', 'status': <HandleStatus.VALID: 1>, 'quaternion': array([ 0.93992537,  0.01408635, -0.34099406, -0.00806207]), 'translation': array([   91.22635651,   -25.88490295, -1398.64941406]), 'error': 0.17550672590732574, 'port_status': ['Occupied', 'Initialized', 'Enabled'], 'frame_number': 1121638378, 'tool_information': [[False, False, False, False, False, False, False, False], []], 'marker_information': ['Not used - Missing', 'Not used - Missing', 'Not used - Missing', 'Not used - Missing', 'Not used - Missing', 'Not used - Missing', 'Not used - Missing', 'Not used - Missing', 'Not used - Missing', 'Not used - Missing', 'Not used - Missing', 'Not used - Missing', 'Not used - Missing', 'Not used - Missing', 'Not used - Missing', 'Not used - Missing', 'Used', 'Not used - Missing', 'Used', 'Used'], 'n_markers': 3, 'marker_out_of_volume': [False, False, False, False, False, False, False, False], 'markers': [array([   20.91376877,   -28.75958061, -1457.50866699]), array([  105.66264343,   -70.22268677, -1387.79370117]), array([  147.10267639,    21.32756233, -1350.64599609])]}, {'handle': '04', 'status': <HandleStatus.VALID: 1>, 'quaternion': array([ 0.94026345,  0.01485492, -0.3400234 , -0.00825289]), 'translation': array([  112.37838745,   200.38713074, -1374.87109375]), 'error': 0.06672359257936478, 'port_status': ['Occupied', 'Initialized', 'Enabled'], 'frame_number': 1121638378, 'tool_information': [[False, False, False, False, False, False, False, False], []], 'marker_information': ['Not used - Missing', 'Not used - Missing', 'Not used - Missing', 'Not used - Missing', 'Not used - Missing', 'Not used - Missing', 'Not used - Missing', 'Not used - Missing', 'Not used - Missing', 'Not used - Missing', 'Not used - Missing', 'Not used - Missing', 'Not used - Missing', 'Not used - Missing', 'Not used - Missing', 'Not used - Missing', 'Used', 'Not used - Missing', 'Used', 'Used'], 'n_markers': 3, 'marker_out_of_volume': [False, False, False, False, False, False, False, False], 'markers': [array([   56.84679794,   214.88395691, -1420.68261719]), array([  170.65641785,   133.45645142, -1328.29650879]), array([  109.63195038,   252.82096863, -1375.63427734])]}, {'handle': '05', 'status': <HandleStatus.VALID: 1>, 'quaternion': array([ 0.93905741,  0.01398862, -0.34333378, -0.00986803]), 'translation': array([  -81.2590332 ,    98.81275177, -1539.65625   ]), 'error': 0.15783928334712982, 'port_status': ['Occupied', 'Initialized', 'Enabled'], 'frame_number': 1121638378, 'tool_information': [[False, False, False, False, False, False, False, False], []], 'marker_information': ['Not used - Missing', 'Not used - Missing', 'Not used - Missing', 'Not used - Missing', 'Not used - Missing', 'Not used - Missing', 'Not used - Missing', 'Not used - Missing', 'Not used - Missing', 'Not used - Missing', 'Not used - Missing', 'Not used - Missing', 'Not used - Missing', 'Not used - Missing', 'Not used - Missing', 'Not used - Missing', 'Used', 'Not used - Missing', 'Used', 'Used'], 'n_markers': 3, 'marker_out_of_volume': [False, False, False, False, False, False, False, False], 'markers': [array([  -72.82329559,   144.95230103, -1531.35437012]), array([  -62.00284958,    63.79013062, -1524.28771973]), array([ -108.95096588,    87.6958313 , -1563.32666016])]}, {'handle': '06', 'status': <HandleStatus.VALID: 1>, 'quaternion': array([ 0.93960392,  0.0153761 , -0.34182441, -0.00800642]), 'translation': array([  100.9235611 ,    87.6600647 , -1387.19885254]), 'error': 0.32468536496162415, 'port_status': ['Occupied', 'Initialized', 'Enabled'], 'frame_number': 1121638378, 'tool_information': [[False, False, False, False, False, False, False, False], []], 'marker_information': ['Not used - Missing', 'Not used - Missing', 'Not used - Missing', 'Not used - Missing', 'Not used - Missing', 'Not used - Missing', 'Not used - Missing', 'Not used - Missing', 'Not used - Missing', 'Not used - Missing', 'Not used - Missing', 'Not used - Missing', 'Not used - Missing', 'Not used - Missing', 'Not used - Missing', 'Not used - Missing', 'Used', 'Not used - Missing', 'Used', 'Used'], 'n_markers': 3, 'marker_out_of_volume': [False, False, False, False, False, False, False, False], 'markers': [array([  135.9552002 ,    77.08660889, -1358.12768555]), array([   75.24868011,   163.7869873 , -1406.41418457]), array([   91.56681061,    22.10659409, -1397.05480957])]}], 'stray_markers': {'n': 0}, 'time_stamp': [2022, 8, 5, 10, 44, 43, 348356]}\n"
     ]
    }
   ],
   "source": [
    "position = d[0]\n",
    "print(position)\n",
    "d.remove(d[0])"
   ]
  },
  {
   "cell_type": "code",
   "execution_count": 7,
   "id": "658d66b5",
   "metadata": {
    "scrolled": true
   },
   "outputs": [
    {
     "data": {
      "text/plain": [
       "11942"
      ]
     },
     "execution_count": 7,
     "metadata": {},
     "output_type": "execute_result"
    }
   ],
   "source": [
    "len(d) # Number of recordet entries"
   ]
  },
  {
   "cell_type": "code",
   "execution_count": 8,
   "id": "a01c85b5",
   "metadata": {},
   "outputs": [
    {
     "name": "stdout",
     "output_type": "stream",
     "text": [
      "3990\n"
     ]
    }
   ],
   "source": [
    "# Get unique and valid entries \n",
    "# That means no double frame numbers and all handles = defined trackers are valid\n",
    "data = []\n",
    "for i in range(len(d)):\n",
    "    if i == 0:\n",
    "        data.append(d[i])\n",
    "    else:\n",
    "        if d[i]['handles'][0]['frame_number'] != data[len(data)-1]['handles'][0]['frame_number']: #no double frame numbers\n",
    "            if np.all([aa['status']==1 for aa in d[i]['handles']]): #if all stati are valid continue\n",
    "                data.append(d[i])\n",
    "            \n",
    "print(len(data))            \n",
    "            \n",
    "    "
   ]
  },
  {
   "cell_type": "code",
   "execution_count": 9,
   "id": "f1d57d87",
   "metadata": {},
   "outputs": [
    {
     "name": "stdout",
     "output_type": "stream",
     "text": [
      "(6, 6)\n"
     ]
    }
   ],
   "source": [
    "#initialize an array to fill with the distances between the markers\n",
    "nd = np.empty([len(data), len(data[0]['handles']),len(data[0]['handles'])])\n",
    "print(nd[0].shape)"
   ]
  },
  {
   "cell_type": "code",
   "execution_count": 10,
   "id": "d9d0e5a3",
   "metadata": {},
   "outputs": [],
   "source": [
    "#fill \n",
    "for a in range(len(data)):\n",
    "    for i in range (len(data[0]['handles'])):\n",
    "        for j in range (len(data[0]['handles'])):\n",
    "                x = data[a]['handles'][i]['translation']\n",
    "                y = data[a]['handles'][j]['translation']\n",
    "                nd[a][i,j] = np.sqrt((x[0]-y[0])**2+(x[1]-y[1])**2+(x[2]-y[2])**2)"
   ]
  },
  {
   "cell_type": "code",
   "execution_count": 11,
   "id": "e7b1aee0",
   "metadata": {},
   "outputs": [
    {
     "data": {
      "text/plain": [
       "array([[[  0.        , 268.29397658, 178.49489616, 323.67932378,\n",
       "         152.73425039, 234.53123486],\n",
       "        [268.29397658,   0.        , 291.81921722, 188.88780249,\n",
       "         138.64165145, 216.62786636],\n",
       "        [178.49489616, 291.81921722,   0.        , 228.49912508,\n",
       "         255.3108743 , 114.53213879],\n",
       "        [323.67932378, 188.88780249, 228.49912508,   0.        ,\n",
       "         273.80093656, 113.97621726],\n",
       "        [152.73425039, 138.64165145, 255.3108743 , 273.80093656,\n",
       "           0.        , 237.81954952],\n",
       "        [234.53123486, 216.62786636, 114.53213879, 113.97621726,\n",
       "         237.81954952,   0.        ]],\n",
       "\n",
       "       [[  0.        , 268.29148828, 178.48344771, 323.65925113,\n",
       "         152.74268773, 234.52549548],\n",
       "        [268.29148828,   0.        , 291.83258836, 188.88897569,\n",
       "         138.64477037, 216.64756815],\n",
       "        [178.48344771, 291.83258836,   0.        , 228.49879972,\n",
       "         255.33178058, 114.53534695],\n",
       "        [323.65925113, 188.88897569, 228.49879972,   0.        ,\n",
       "         273.80526994, 113.97252173],\n",
       "        [152.74268773, 138.64477037, 255.33178058, 273.80526994,\n",
       "           0.        , 237.84720902],\n",
       "        [234.52549548, 216.64756815, 114.53534695, 113.97252173,\n",
       "         237.84720902,   0.        ]],\n",
       "\n",
       "       [[  0.        , 268.29010504, 178.47445749, 323.66016242,\n",
       "         152.7426534 , 234.51386088],\n",
       "        [268.29010504,   0.        , 291.82298451, 188.88507626,\n",
       "         138.64342568, 216.63325714],\n",
       "        [178.47445749, 291.82298451,   0.        , 228.49970744,\n",
       "         255.32138463, 114.5325502 ],\n",
       "        [323.66016242, 188.88507626, 228.49970744,   0.        ,\n",
       "         273.80344843, 113.97632216],\n",
       "        [152.7426534 , 138.64342568, 255.32138463, 273.80344843,\n",
       "           0.        , 237.83139228],\n",
       "        [234.51386088, 216.63325714, 114.5325502 , 113.97632216,\n",
       "         237.83139228,   0.        ]],\n",
       "\n",
       "       ...,\n",
       "\n",
       "       [[  0.        , 268.29405324, 178.48775477, 323.671598  ,\n",
       "         152.74014385, 234.52672511],\n",
       "        [268.29405324,   0.        , 291.81791496, 188.87990412,\n",
       "         138.64549254, 216.62622098],\n",
       "        [178.48775477, 291.81791496,   0.        , 228.49855678,\n",
       "         255.31804902, 114.53297593],\n",
       "        [323.671598  , 188.87990412, 228.49855678,   0.        ,\n",
       "         273.80254825, 113.97475602],\n",
       "        [152.74014385, 138.64549254, 255.31804902, 273.80254825,\n",
       "           0.        , 237.82808355],\n",
       "        [234.52672511, 216.62622098, 114.53297593, 113.97475602,\n",
       "         237.82808355,   0.        ]],\n",
       "\n",
       "       [[  0.        , 268.29585733, 178.48617085, 323.67085162,\n",
       "         152.74423629, 234.52275899],\n",
       "        [268.29585733,   0.        , 291.82270849, 188.88476882,\n",
       "         138.63928352, 216.62931792],\n",
       "        [178.48617085, 291.82270849,   0.        , 228.49927832,\n",
       "         255.31756715, 114.53249686],\n",
       "        [323.67085162, 188.88476882, 228.49927832,   0.        ,\n",
       "         273.79759069, 113.97598933],\n",
       "        [152.74423629, 138.63928352, 255.31756715, 273.79759069,\n",
       "           0.        , 237.82187807],\n",
       "        [234.52275899, 216.62931792, 114.53249686, 113.97598933,\n",
       "         237.82187807,   0.        ]],\n",
       "\n",
       "       [[  0.        , 268.29079663, 178.48387651, 323.66878039,\n",
       "         152.7467023 , 234.51861192],\n",
       "        [268.29079663,   0.        , 291.82791177, 188.89654986,\n",
       "         138.63664602, 216.63479524],\n",
       "        [178.48387651, 291.82791177,   0.        , 228.50066264,\n",
       "         255.32773704, 114.53395593],\n",
       "        [323.66878039, 188.89654986, 228.50066264,   0.        ,\n",
       "         273.80812861, 113.97596971],\n",
       "        [152.7467023 , 138.63664602, 255.32773704, 273.80812861,\n",
       "           0.        , 237.8303654 ],\n",
       "        [234.51861192, 216.63479524, 114.53395593, 113.97596971,\n",
       "         237.8303654 ,   0.        ]]])"
      ]
     },
     "execution_count": 11,
     "metadata": {},
     "output_type": "execute_result"
    }
   ],
   "source": [
    "nd # nd is \"number\" of \"distance\" measurements "
   ]
  },
  {
   "cell_type": "code",
   "execution_count": 12,
   "id": "2267188e",
   "metadata": {},
   "outputs": [
    {
     "name": "stdout",
     "output_type": "stream",
     "text": [
      "0.002520819815995076\n",
      "0.007757617101142181\n",
      "0.005265435211701556\n",
      "0.0034652520816425988\n",
      "0.002520819815995076\n",
      "0.005081196431555777\n",
      "0.007604999280920938\n",
      "0.004102992494120006\n",
      "0.007757617101142181\n",
      "0.005081196431555777\n",
      "0.002071272810456504\n",
      "0.007063568636725412\n",
      "0.005265435211701556\n",
      "0.007604999280920938\n",
      "0.002071272810456504\n",
      "0.006981899717677087\n",
      "0.0034652520816425988\n",
      "0.004102992494120006\n",
      "0.007063568636725412\n",
      "0.006981899717677087\n"
     ]
    }
   ],
   "source": [
    "for i in range (5):\n",
    "    for j in range(5):\n",
    "        if i != j:\n",
    "            print(np.sqrt(np.var(nd[:,i,j])))"
   ]
  },
  {
   "cell_type": "code",
   "execution_count": 13,
   "id": "dc8d5d65",
   "metadata": {},
   "outputs": [],
   "source": [
    "import matplotlib.pyplot as plt"
   ]
  },
  {
   "cell_type": "code",
   "execution_count": 14,
   "id": "bc133c30",
   "metadata": {
    "scrolled": true
   },
   "outputs": [
    {
     "data": {
      "text/plain": [
       "[<matplotlib.lines.Line2D at 0x7feef912edc0>]"
      ]
     },
     "execution_count": 14,
     "metadata": {},
     "output_type": "execute_result"
    },
    {
     "data": {
      "image/png": "[encoded data removed]",
      "text/plain": [
       "<Figure size 432x288 with 1 Axes>"
      ]
     },
     "metadata": {
      "needs_background": "light"
     },
     "output_type": "display_data"
    }
   ],
   "source": [
    "y = nd[:,2,4]\n",
    "x = list(range(len(y)))\n",
    "fig, ax = plt.subplots()\n",
    "ax.plot(x,y)"
   ]
  },
  {
   "cell_type": "code",
   "execution_count": null,
   "id": "aa6d3512",
   "metadata": {},
   "outputs": [],
   "source": []
  }
 ],
 "metadata": {
  "kernelspec": {
   "display_name": "Python 3 (ipykernel)",
   "language": "python",
   "name": "python3"
  },
  "language_info": {
   "codemirror_mode": {
    "name": "ipython",
    "version": 3
   },
   "file_extension": ".py",
   "mimetype": "text/x-python",
   "name": "python",
   "nbconvert_exporter": "python",
   "pygments_lexer": "ipython3",
   "version": "3.9.12"
  }
 },
 "nbformat": 4,
 "nbformat_minor": 5
}
