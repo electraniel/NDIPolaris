{
 "cells": [
  {
   "cell_type": "code",
   "execution_count": 1,
   "id": "bee237b8",
   "metadata": {},
   "outputs": [],
   "source": [
    "import os \n",
    "import pickle\n",
    "import pandas as pd\n",
    "import numpy as np\n",
    "import pprint\n"
   ]
  },
  {
   "cell_type": "code",
   "execution_count": 2,
   "id": "38bfc3de",
   "metadata": {},
   "outputs": [],
   "source": [
    "from enum import IntEnum\n",
    "class HandleStatus(IntEnum):\n",
    "    VALID = 1\n",
    "    MISSING = 2\n",
    "    DISABLED = 4\n",
    "    "
   ]
  },
  {
   "cell_type": "code",
   "execution_count": 3,
   "id": "d7f273f3",
   "metadata": {
    "scrolled": false
   },
   "outputs": [
    {
     "data": {
      "text/plain": [
       "'/Users/colin/Documents/AKH/NDIPolaris'"
      ]
     },
     "execution_count": 3,
     "metadata": {},
     "output_type": "execute_result"
    }
   ],
   "source": [
    "pwd\n"
   ]
  },
  {
   "cell_type": "code",
   "execution_count": 4,
   "id": "0df36148",
   "metadata": {},
   "outputs": [],
   "source": [
    "import ndi_polaris_04_07 as ndi"
   ]
  },
  {
   "cell_type": "code",
   "execution_count": 5,
   "id": "bd73914c",
   "metadata": {},
   "outputs": [],
   "source": [
    "d = pd.read_pickle('./Measurement_J')"
   ]
  },
  {
   "cell_type": "markdown",
   "id": "c6220c32",
   "metadata": {},
   "source": [
    "data d = list of frames ,each frame (one list entry) is a dictionary. \n",
    "\n",
    "dict keys are system_status, handles, stray_markers, time_stamps. handle is a list with the number of trackers tracked.\n",
    "\n",
    "each handle is a dict with: 'handle', 'status', 'quaternion', 'translation', 'error', 'port_status', 'frame_number', 'tool_information', 'marker_information', 'n_markers', 'marker_out_of_volume', 'markers'"
   ]
  },
  {
   "cell_type": "code",
   "execution_count": 6,
   "id": "c1db64dd",
   "metadata": {
    "scrolled": true
   },
   "outputs": [
    {
     "data": {
      "text/plain": [
       "dict_keys(['handle', 'status', 'quaternion', 'translation', 'error', 'port_status', 'frame_number', 'tool_information', 'marker_information', 'n_markers', 'marker_out_of_volume', 'markers'])"
      ]
     },
     "execution_count": 6,
     "metadata": {},
     "output_type": "execute_result"
    }
   ],
   "source": [
    "d[0]['handles'][0].keys()"
   ]
  },
  {
   "cell_type": "code",
   "execution_count": 7,
   "id": "156b0049",
   "metadata": {},
   "outputs": [
    {
     "data": {
      "text/plain": [
       "'01'"
      ]
     },
     "execution_count": 7,
     "metadata": {},
     "output_type": "execute_result"
    }
   ],
   "source": [
    "d[0]['handles'][0]['handle']"
   ]
  },
  {
   "cell_type": "code",
   "execution_count": 8,
   "id": "f6d40516",
   "metadata": {
    "scrolled": true
   },
   "outputs": [
    {
     "name": "stdout",
     "output_type": "stream",
     "text": [
      "[  129.63951111     9.36485004 -1365.39794922]\n",
      "[  -68.77826691   -10.17350483 -1532.30761719]\n",
      "[   90.84767914   214.09114075 -1392.46643066]\n",
      "[  -53.53369141   183.3974762  -1514.07067871]\n",
      "[  -25.34035301     4.08954954 -1495.39294434]\n"
     ]
    }
   ],
   "source": [
    "for i in range (0,5):\n",
    "    print(d[0]['handles'][i]['translation'])"
   ]
  },
  {
   "cell_type": "code",
   "execution_count": 9,
   "id": "7c2dee75",
   "metadata": {},
   "outputs": [],
   "source": [
    "n = np.empty([len(d), len(d[0]['handles']),3]) #creates an empty numppy array with the dimension of the frames and the handles with 3 dim"
   ]
  },
  {
   "cell_type": "code",
   "execution_count": 10,
   "id": "0797baff",
   "metadata": {
    "scrolled": true
   },
   "outputs": [],
   "source": [
    "#make n a np 3 dim array with frames, handles and their koordinates\n",
    "for i in range (0,len(d)):\n",
    "    for j in range (0,5):\n",
    "        n[i,j]=(d[i]['handles'][j]['translation'])"
   ]
  },
  {
   "cell_type": "code",
   "execution_count": 11,
   "id": "b1f8bdbe",
   "metadata": {
    "scrolled": true
   },
   "outputs": [
    {
     "name": "stdout",
     "output_type": "stream",
     "text": [
      "0.0520965889494453\n",
      "0.09336261096312323\n",
      "0.04085651917091721\n",
      "0.056782226748758276\n",
      "0.1060106862659918\n",
      "0.05591309552793435\n",
      "0.048627851991102804\n",
      "0.0954805063335245\n",
      "0.03303522791470249\n",
      "0.05242970567038193\n",
      "0.10486300863292104\n",
      "0.04743364866179441\n",
      "0.05436464096775174\n",
      "0.10314257602860807\n",
      "0.05017094574994622\n"
     ]
    }
   ],
   "source": [
    "for i in range (5):\n",
    "    for j in range(3):\n",
    "        print(np.sqrt(np.var(n[:,i,j])))"
   ]
  },
  {
   "cell_type": "code",
   "execution_count": 12,
   "id": "658d66b5",
   "metadata": {},
   "outputs": [
    {
     "data": {
      "text/plain": [
       "10540"
      ]
     },
     "execution_count": 12,
     "metadata": {},
     "output_type": "execute_result"
    }
   ],
   "source": [
    "len(d)"
   ]
  },
  {
   "cell_type": "code",
   "execution_count": 13,
   "id": "a0400b19",
   "metadata": {},
   "outputs": [],
   "source": [
    "data = []"
   ]
  },
  {
   "cell_type": "code",
   "execution_count": 14,
   "id": "a01c85b5",
   "metadata": {},
   "outputs": [
    {
     "name": "stdout",
     "output_type": "stream",
     "text": [
      "3992\n"
     ]
    }
   ],
   "source": [
    "# Remove double Frame numbers\n",
    "for i in range(len(d)):\n",
    "    if i == 0:\n",
    "        data.append(d[i])\n",
    "    else:\n",
    "        if d[i]['handles'][0]['frame_number'] != data[len(data)-1]['handles'][0]['frame_number']:\n",
    "            data.append(d[i])\n",
    "            \n",
    "print(len(data))            \n",
    "            \n",
    "    "
   ]
  },
  {
   "cell_type": "code",
   "execution_count": 15,
   "id": "31df1de9",
   "metadata": {},
   "outputs": [
    {
     "name": "stdout",
     "output_type": "stream",
     "text": [
      "[  129.63951111     9.36485004 -1365.39794922]\n",
      "[  -68.77826691   -10.17350483 -1532.30761719]\n",
      "[   90.84767914   214.09114075 -1392.46643066]\n",
      "[  -53.53369141   183.3974762  -1514.07067871]\n",
      "[  -25.34035301     4.08954954 -1495.39294434]\n"
     ]
    }
   ],
   "source": [
    "for i in range (5):\n",
    "    print(data[0]['handles'][i]['translation'])"
   ]
  },
  {
   "cell_type": "code",
   "execution_count": 16,
   "id": "30a5323f",
   "metadata": {},
   "outputs": [],
   "source": [
    "nd = np.empty([len(data), len(data[0]['handles']),len(data[0]['handles'])])"
   ]
  },
  {
   "cell_type": "code",
   "execution_count": 17,
   "id": "f1d57d87",
   "metadata": {},
   "outputs": [
    {
     "data": {
      "text/plain": [
       "(5, 5)"
      ]
     },
     "execution_count": 17,
     "metadata": {},
     "output_type": "execute_result"
    }
   ],
   "source": [
    "nd[0].shape"
   ]
  },
  {
   "cell_type": "code",
   "execution_count": 18,
   "id": "d9d0e5a3",
   "metadata": {},
   "outputs": [],
   "source": [
    "for a in range(len(data)):\n",
    "    for i in range (5):\n",
    "        for j in range (5):\n",
    "            x = data[a]['handles'][i]['translation']\n",
    "            y = data[a]['handles'][j]['translation']\n",
    "            nd[a][i,j] = np.sqrt((x[0]-y[0])**2+(x[1]-y[1])**2+(x[2]-y[2])**2)"
   ]
  },
  {
   "cell_type": "code",
   "execution_count": 19,
   "id": "d4c3913e",
   "metadata": {
    "scrolled": true
   },
   "outputs": [
    {
     "data": {
      "text/plain": [
       "array([[  0.        , 260.01940499, 210.12173249, 293.16947045,\n",
       "        202.36084371],\n",
       "       [260.01940499,   0.        , 308.75733021, 195.02397865,\n",
       "         58.75013281],\n",
       "       [210.12173249, 308.75733021,   0.        , 191.25748473,\n",
       "        261.15030893],\n",
       "       [293.16947045, 195.02397865, 191.25748473,   0.        ,\n",
       "        182.47229938],\n",
       "       [202.36084371,  58.75013281, 261.15030893, 182.47229938,\n",
       "          0.        ]])"
      ]
     },
     "execution_count": 19,
     "metadata": {},
     "output_type": "execute_result"
    }
   ],
   "source": [
    "nd[13]"
   ]
  },
  {
   "cell_type": "code",
   "execution_count": 20,
   "id": "bb6f05f4",
   "metadata": {},
   "outputs": [],
   "source": [
    "nd_var=np.zeros([6,6])"
   ]
  },
  {
   "cell_type": "code",
   "execution_count": 21,
   "id": "e7b1aee0",
   "metadata": {},
   "outputs": [
    {
     "data": {
      "text/plain": [
       "117.5640159618295"
      ]
     },
     "execution_count": 21,
     "metadata": {},
     "output_type": "execute_result"
    }
   ],
   "source": [
    "np.sqrt(np.var(nd[:][0,1]))"
   ]
  },
  {
   "cell_type": "code",
   "execution_count": 22,
   "id": "2267188e",
   "metadata": {},
   "outputs": [
    {
     "name": "stdout",
     "output_type": "stream",
     "text": [
      "0.008237272166167767\n",
      "0.0029180143689386028\n",
      "0.007571455758311209\n",
      "0.007288548610248404\n",
      "0.008237272166167767\n",
      "0.006028536342431129\n",
      "0.0027537087616864952\n",
      "0.008776439394217647\n",
      "0.0029180143689386028\n",
      "0.006028536342431129\n",
      "0.009104193870436808\n",
      "0.004821215634389656\n",
      "0.007571455758311209\n",
      "0.0027537087616864952\n",
      "0.009104193870436808\n",
      "0.003194870612111212\n",
      "0.007288548610248404\n",
      "0.008776439394217647\n",
      "0.004821215634389656\n",
      "0.003194870612111212\n"
     ]
    }
   ],
   "source": [
    "for i in range (5):\n",
    "    for j in range(5):\n",
    "        if i != j:\n",
    "            print(np.sqrt(np.var(nd[:,i,j])))"
   ]
  },
  {
   "cell_type": "code",
   "execution_count": null,
   "id": "b69c696e",
   "metadata": {},
   "outputs": [],
   "source": []
  }
 ],
 "metadata": {
  "kernelspec": {
   "display_name": "Python 3 (ipykernel)",
   "language": "python",
   "name": "python3"
  },
  "language_info": {
   "codemirror_mode": {
    "name": "ipython",
    "version": 3
   },
   "file_extension": ".py",
   "mimetype": "text/x-python",
   "name": "python",
   "nbconvert_exporter": "python",
   "pygments_lexer": "ipython3",
   "version": "3.9.12"
  }
 },
 "nbformat": 4,
 "nbformat_minor": 5
}
